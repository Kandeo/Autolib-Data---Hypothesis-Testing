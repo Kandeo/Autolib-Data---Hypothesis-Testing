{
  "nbformat": 4,
  "nbformat_minor": 0,
  "metadata": {
    "colab": {
      "name": "Christine Kandeo Python Notebook",
      "provenance": [],
      "collapsed_sections": [],
      "toc_visible": true,
      "authorship_tag": "ABX9TyOKP/HYEDesQT56rn6ROgHg",
      "include_colab_link": true
    },
    "kernelspec": {
      "name": "python3",
      "display_name": "Python 3"
    },
    "language_info": {
      "name": "python"
    }
  },
  "cells": [
    {
      "cell_type": "markdown",
      "metadata": {
        "id": "view-in-github",
        "colab_type": "text"
      },
      "source": [
        "<a href=\"https://colab.research.google.com/github/Kandeo/Autolib-Dataset--Hypothesis-Testing/blob/main/Christine_Kandeo_Python_Notebook.ipynb\" target=\"_parent\"><img src=\"https://colab.research.google.com/assets/colab-badge.svg\" alt=\"Open In Colab\"/></a>"
      ]
    },
    {
      "cell_type": "markdown",
      "metadata": {
        "id": "F1a7I6_RlRF1"
      },
      "source": [
        "# **Overview**\n",
        "Autolib electric car-sharing service company has tasked us to understand Electric car usage by investigating a claim about the blue cars from the provided Autolib dataset.\n",
        "\n",
        "In an effort to do this, we need to identify some areas and periods of interest via sampling stating the reason to the choice of method, then perform hypothesis testing with regards to the claim that we will have made.\n",
        "\n",
        "To work on this project, we will perform the following analysis with Python; \n",
        "\n",
        "- Finding and dealing with outliers, anomalies, and missing data within the dataset.\n",
        "- Plotting appropriate univariate and bivariate summaries recording our observations.\n",
        "\n",
        "Dataset and Glossary:\n",
        "\n",
        " 1. Dataset: http://bit.ly/DSCoreAutolibDataset\n",
        " \n",
        " 2.  Glossary: http://bit.ly/DSCoreAutolibDatasetGlossary \n",
        " \n",
        "\n",
        "The dataset is a daily aggregation, by date and postal code, of the number of events on the Autolib network (car-sharing and recharging).\n",
        "\n"
      ]
    },
    {
      "cell_type": "markdown",
      "metadata": {
        "id": "a1sEbeEXnn1m"
      },
      "source": [
        "# **Defining the Question**"
      ]
    },
    {
      "cell_type": "markdown",
      "metadata": {
        "id": "hmKVc3BXnw22"
      },
      "source": [
        "**Specific Data Analytics question**"
      ]
    },
    {
      "cell_type": "markdown",
      "metadata": {
        "id": "IhEoATFlJfKi"
      },
      "source": [
        "A survey carried out by Bollore Industry claimed that they found no significant difference  between the average number of Autolib Bluecars taken in Val-d'Oise and Yvelines during the weekends.\n",
        "\n",
        "At a 5% level of significance, this analysis seeks to find out if there is any statistical evidence to support the claim."
      ]
    },
    {
      "cell_type": "markdown",
      "metadata": {
        "id": "ynd62olcoArq"
      },
      "source": [
        "**Metrics for Success**"
      ]
    },
    {
      "cell_type": "markdown",
      "metadata": {
        "id": "U6RonKJePu1Z"
      },
      "source": [
        "Performing a hypothesis test that will help  accept/reject the claim that the average number of Autolib Blue cars taken in the 2 areas of Val-d'Oise and Yvelines have no significant difference."
      ]
    },
    {
      "cell_type": "markdown",
      "metadata": {
        "id": "BsvchCanR_lm"
      },
      "source": [
        "**Understanding the Context**"
      ]
    },
    {
      "cell_type": "markdown",
      "metadata": {
        "id": "bvl6geawSE2S"
      },
      "source": [
        "This dataset contains daily aggregation by date and postal code of the number of events on the autolib network. The observations capture the number of Bluecars taken and returned in the areas, the specific days of the week, the number of daily data points available for aggregation and the number of recharging slots released and taken."
      ]
    },
    {
      "cell_type": "markdown",
      "metadata": {
        "id": "ac898doAoGXH"
      },
      "source": [
        "**Experimental Design**"
      ]
    },
    {
      "cell_type": "markdown",
      "metadata": {
        "id": "YCWrDQXxYrnj"
      },
      "source": [
        "1. Data Loading\n",
        " - Loading libraries\n",
        "\n",
        "2. Data Cleaning\n",
        " - Dealing with relevant/irrelevant observations\n",
        " - Handling missing/duplicate values\n",
        " - Checking for Outliers and anomalies\n",
        "\n",
        "3. Exploratory Data Analysis\n",
        " - Univariate analysis\n",
        " - Bivariate analysis\n",
        "\n",
        "4. Hypothesis testing\n",
        " - Stating the hypothesis\n",
        " - Identifying the test statistics\n",
        " - Analysis and conclusions\n",
        " "
      ]
    },
    {
      "cell_type": "markdown",
      "metadata": {
        "id": "jOwqvMUdoMFO"
      },
      "source": [
        "# **Data Loading**"
      ]
    },
    {
      "cell_type": "code",
      "metadata": {
        "colab": {
          "base_uri": "https://localhost:8080/",
          "height": 209
        },
        "id": "xjzCFfAqoa3z",
        "outputId": "f4ab40e7-29f3-4e36-9e61-8db19c8fb748"
      },
      "source": [
        "#Importing Libraries:\n",
        "\n",
        "import pandas as pd\n",
        "import numpy as np\n",
        "import matplotlib.pyplot as plt\n",
        "import seaborn as sns\n",
        "from scipy.stats import ttest_ind\n",
        "import warnings\n",
        "warnings.filterwarnings(\"ignore\")\n",
        "\n",
        "#Reading and Previewing Our Dataset:\n",
        "df = pd.read_csv(\"http://bit.ly/DSCoreAutolibDataset\")\n",
        "df.head(4)"
      ],
      "execution_count": null,
      "outputs": [
        {
          "output_type": "execute_result",
          "data": {
            "text/html": [
              "<div>\n",
              "<style scoped>\n",
              "    .dataframe tbody tr th:only-of-type {\n",
              "        vertical-align: middle;\n",
              "    }\n",
              "\n",
              "    .dataframe tbody tr th {\n",
              "        vertical-align: top;\n",
              "    }\n",
              "\n",
              "    .dataframe thead th {\n",
              "        text-align: right;\n",
              "    }\n",
              "</style>\n",
              "<table border=\"1\" class=\"dataframe\">\n",
              "  <thead>\n",
              "    <tr style=\"text-align: right;\">\n",
              "      <th></th>\n",
              "      <th>Postal code</th>\n",
              "      <th>date</th>\n",
              "      <th>n_daily_data_points</th>\n",
              "      <th>dayOfWeek</th>\n",
              "      <th>day_type</th>\n",
              "      <th>BlueCars_taken_sum</th>\n",
              "      <th>BlueCars_returned_sum</th>\n",
              "      <th>Utilib_taken_sum</th>\n",
              "      <th>Utilib_returned_sum</th>\n",
              "      <th>Utilib_14_taken_sum</th>\n",
              "      <th>Utilib_14_returned_sum</th>\n",
              "      <th>Slots_freed_sum</th>\n",
              "      <th>Slots_taken_sum</th>\n",
              "    </tr>\n",
              "  </thead>\n",
              "  <tbody>\n",
              "    <tr>\n",
              "      <th>0</th>\n",
              "      <td>75001</td>\n",
              "      <td>1/1/2018</td>\n",
              "      <td>1440</td>\n",
              "      <td>0</td>\n",
              "      <td>weekday</td>\n",
              "      <td>110</td>\n",
              "      <td>103</td>\n",
              "      <td>3</td>\n",
              "      <td>2</td>\n",
              "      <td>10</td>\n",
              "      <td>9</td>\n",
              "      <td>22</td>\n",
              "      <td>20</td>\n",
              "    </tr>\n",
              "    <tr>\n",
              "      <th>1</th>\n",
              "      <td>75001</td>\n",
              "      <td>1/2/2018</td>\n",
              "      <td>1438</td>\n",
              "      <td>1</td>\n",
              "      <td>weekday</td>\n",
              "      <td>98</td>\n",
              "      <td>94</td>\n",
              "      <td>1</td>\n",
              "      <td>1</td>\n",
              "      <td>8</td>\n",
              "      <td>8</td>\n",
              "      <td>23</td>\n",
              "      <td>22</td>\n",
              "    </tr>\n",
              "    <tr>\n",
              "      <th>2</th>\n",
              "      <td>75001</td>\n",
              "      <td>1/3/2018</td>\n",
              "      <td>1439</td>\n",
              "      <td>2</td>\n",
              "      <td>weekday</td>\n",
              "      <td>138</td>\n",
              "      <td>139</td>\n",
              "      <td>0</td>\n",
              "      <td>0</td>\n",
              "      <td>2</td>\n",
              "      <td>2</td>\n",
              "      <td>27</td>\n",
              "      <td>27</td>\n",
              "    </tr>\n",
              "    <tr>\n",
              "      <th>3</th>\n",
              "      <td>75001</td>\n",
              "      <td>1/4/2018</td>\n",
              "      <td>1320</td>\n",
              "      <td>3</td>\n",
              "      <td>weekday</td>\n",
              "      <td>104</td>\n",
              "      <td>104</td>\n",
              "      <td>2</td>\n",
              "      <td>2</td>\n",
              "      <td>9</td>\n",
              "      <td>8</td>\n",
              "      <td>25</td>\n",
              "      <td>21</td>\n",
              "    </tr>\n",
              "  </tbody>\n",
              "</table>\n",
              "</div>"
            ],
            "text/plain": [
              "   Postal code      date  ...  Slots_freed_sum  Slots_taken_sum\n",
              "0        75001  1/1/2018  ...               22               20\n",
              "1        75001  1/2/2018  ...               23               22\n",
              "2        75001  1/3/2018  ...               27               27\n",
              "3        75001  1/4/2018  ...               25               21\n",
              "\n",
              "[4 rows x 13 columns]"
            ]
          },
          "metadata": {},
          "execution_count": 16
        }
      ]
    },
    {
      "cell_type": "markdown",
      "metadata": {
        "id": "KzYJrLw0orwA"
      },
      "source": [
        "Checking the Data"
      ]
    },
    {
      "cell_type": "code",
      "metadata": {
        "colab": {
          "base_uri": "https://localhost:8080/"
        },
        "id": "OCDjbcdKot0Y",
        "outputId": "bfd9970d-40bd-48a9-8746-f8d8a8cd9508"
      },
      "source": [
        "#Checking the Shape of the Dataset:\n",
        "df.shape\n"
      ],
      "execution_count": null,
      "outputs": [
        {
          "output_type": "execute_result",
          "data": {
            "text/plain": [
              "(16085, 13)"
            ]
          },
          "metadata": {},
          "execution_count": 17
        }
      ]
    },
    {
      "cell_type": "markdown",
      "metadata": {
        "id": "_CyFZ6ppo1XR"
      },
      "source": [
        "The dataset has 16,085 Rows and 13 Columns"
      ]
    },
    {
      "cell_type": "code",
      "metadata": {
        "colab": {
          "base_uri": "https://localhost:8080/"
        },
        "id": "w4Q25PAYpMPy",
        "outputId": "6ba2adb6-3095-4ce5-b4d0-fee61ed13b0e"
      },
      "source": [
        "#Identifying the Datatypes in each column:\n",
        "df.dtypes\n"
      ],
      "execution_count": null,
      "outputs": [
        {
          "output_type": "execute_result",
          "data": {
            "text/plain": [
              "Postal code                int64\n",
              "date                      object\n",
              "n_daily_data_points        int64\n",
              "dayOfWeek                  int64\n",
              "day_type                  object\n",
              "BlueCars_taken_sum         int64\n",
              "BlueCars_returned_sum      int64\n",
              "Utilib_taken_sum           int64\n",
              "Utilib_returned_sum        int64\n",
              "Utilib_14_taken_sum        int64\n",
              "Utilib_14_returned_sum     int64\n",
              "Slots_freed_sum            int64\n",
              "Slots_taken_sum            int64\n",
              "dtype: object"
            ]
          },
          "metadata": {},
          "execution_count": 18
        }
      ]
    },
    {
      "cell_type": "markdown",
      "metadata": {
        "id": "O1Gjvs3opY2v"
      },
      "source": [
        "# **Data Cleaning**"
      ]
    },
    {
      "cell_type": "markdown",
      "metadata": {
        "id": "YzozKtUs59NJ"
      },
      "source": [
        "Adding of Relevant Observations"
      ]
    },
    {
      "cell_type": "code",
      "metadata": {
        "colab": {
          "base_uri": "https://localhost:8080/",
          "height": 209
        },
        "id": "XckT3o8R6Ama",
        "outputId": "3c205645-6653-4b47-e2da-d23efc50b7c0"
      },
      "source": [
        "#Creating a column indicating the days of the week:\n",
        "\n",
        "def Check(df):\n",
        "   if df['dayOfWeek']== 0:\n",
        "      return \"Monday\"\n",
        "   elif df['dayOfWeek']== 1:\n",
        "      return \"Tuesday\"\n",
        "   elif df['dayOfWeek']== 2:\n",
        "      return \"Wednesday\"\n",
        "   elif df['dayOfWeek']== 3:\n",
        "      return \"Thursday\"\n",
        "   elif df['dayOfWeek']== 4:\n",
        "      return \"Friday\"\n",
        "   elif df['dayOfWeek']== 5:\n",
        "      return \"Saturday\"\n",
        "   else:\n",
        "     return 'Sunday'\n",
        "\n",
        "df['Day_Of_Week'] = df.apply(Check, axis=1)\n",
        "df.head(4)\n"
      ],
      "execution_count": null,
      "outputs": [
        {
          "output_type": "execute_result",
          "data": {
            "text/html": [
              "<div>\n",
              "<style scoped>\n",
              "    .dataframe tbody tr th:only-of-type {\n",
              "        vertical-align: middle;\n",
              "    }\n",
              "\n",
              "    .dataframe tbody tr th {\n",
              "        vertical-align: top;\n",
              "    }\n",
              "\n",
              "    .dataframe thead th {\n",
              "        text-align: right;\n",
              "    }\n",
              "</style>\n",
              "<table border=\"1\" class=\"dataframe\">\n",
              "  <thead>\n",
              "    <tr style=\"text-align: right;\">\n",
              "      <th></th>\n",
              "      <th>Postal code</th>\n",
              "      <th>date</th>\n",
              "      <th>n_daily_data_points</th>\n",
              "      <th>dayOfWeek</th>\n",
              "      <th>day_type</th>\n",
              "      <th>BlueCars_taken_sum</th>\n",
              "      <th>BlueCars_returned_sum</th>\n",
              "      <th>Utilib_taken_sum</th>\n",
              "      <th>Utilib_returned_sum</th>\n",
              "      <th>Utilib_14_taken_sum</th>\n",
              "      <th>Utilib_14_returned_sum</th>\n",
              "      <th>Slots_freed_sum</th>\n",
              "      <th>Slots_taken_sum</th>\n",
              "      <th>Day_Of_Week</th>\n",
              "    </tr>\n",
              "  </thead>\n",
              "  <tbody>\n",
              "    <tr>\n",
              "      <th>0</th>\n",
              "      <td>75001</td>\n",
              "      <td>1/1/2018</td>\n",
              "      <td>1440</td>\n",
              "      <td>0</td>\n",
              "      <td>weekday</td>\n",
              "      <td>110</td>\n",
              "      <td>103</td>\n",
              "      <td>3</td>\n",
              "      <td>2</td>\n",
              "      <td>10</td>\n",
              "      <td>9</td>\n",
              "      <td>22</td>\n",
              "      <td>20</td>\n",
              "      <td>Monday</td>\n",
              "    </tr>\n",
              "    <tr>\n",
              "      <th>1</th>\n",
              "      <td>75001</td>\n",
              "      <td>1/2/2018</td>\n",
              "      <td>1438</td>\n",
              "      <td>1</td>\n",
              "      <td>weekday</td>\n",
              "      <td>98</td>\n",
              "      <td>94</td>\n",
              "      <td>1</td>\n",
              "      <td>1</td>\n",
              "      <td>8</td>\n",
              "      <td>8</td>\n",
              "      <td>23</td>\n",
              "      <td>22</td>\n",
              "      <td>Tuesday</td>\n",
              "    </tr>\n",
              "    <tr>\n",
              "      <th>2</th>\n",
              "      <td>75001</td>\n",
              "      <td>1/3/2018</td>\n",
              "      <td>1439</td>\n",
              "      <td>2</td>\n",
              "      <td>weekday</td>\n",
              "      <td>138</td>\n",
              "      <td>139</td>\n",
              "      <td>0</td>\n",
              "      <td>0</td>\n",
              "      <td>2</td>\n",
              "      <td>2</td>\n",
              "      <td>27</td>\n",
              "      <td>27</td>\n",
              "      <td>Wednesday</td>\n",
              "    </tr>\n",
              "    <tr>\n",
              "      <th>3</th>\n",
              "      <td>75001</td>\n",
              "      <td>1/4/2018</td>\n",
              "      <td>1320</td>\n",
              "      <td>3</td>\n",
              "      <td>weekday</td>\n",
              "      <td>104</td>\n",
              "      <td>104</td>\n",
              "      <td>2</td>\n",
              "      <td>2</td>\n",
              "      <td>9</td>\n",
              "      <td>8</td>\n",
              "      <td>25</td>\n",
              "      <td>21</td>\n",
              "      <td>Thursday</td>\n",
              "    </tr>\n",
              "  </tbody>\n",
              "</table>\n",
              "</div>"
            ],
            "text/plain": [
              "   Postal code      date  ...  Slots_taken_sum  Day_Of_Week\n",
              "0        75001  1/1/2018  ...               20       Monday\n",
              "1        75001  1/2/2018  ...               22      Tuesday\n",
              "2        75001  1/3/2018  ...               27    Wednesday\n",
              "3        75001  1/4/2018  ...               21     Thursday\n",
              "\n",
              "[4 rows x 14 columns]"
            ]
          },
          "metadata": {},
          "execution_count": 19
        }
      ]
    },
    {
      "cell_type": "code",
      "metadata": {
        "colab": {
          "base_uri": "https://localhost:8080/",
          "height": 209
        },
        "id": "PczQ3EpA6dtn",
        "outputId": "9e9ea709-b774-43e7-9109-1eebac5ba8bb"
      },
      "source": [
        "#Adding a column that assigns Postal codes the Departments/Areas they are located in:\n",
        "\n",
        "def Check(df):\n",
        "   if (df['Postal code'] >= 75001) & (df['Postal code'] <= 75116):\n",
        "      return \"Paris\"\n",
        "   elif (df['Postal code'] >= 78000) & (df['Postal code'] <= 78150):\n",
        "      return \"Yvelines\"\n",
        "   elif (df['Postal code'] >= 91330) & (df['Postal code'] <= 91400):\n",
        "      return \"Essonne\"\n",
        "   elif (df['Postal code'] >= 92000) & (df['Postal code'] <= 92800):\n",
        "      return \"Hauts-de-Seine\"\n",
        "   elif (df['Postal code'] >= 93100) & (df['Postal code'] <= 93800):\n",
        "      return \"Seine-Saint-Denise\"\n",
        "   elif (df['Postal code'] >= 94000) & (df['Postal code'] <= 94800):\n",
        "      return \"Val-de-Marne\"\n",
        "   else:\n",
        "     return \"Val-d'Oise\"\n",
        "\n",
        "df['Department'] = df.apply(Check, axis=1)\n",
        "df.head(4)\n"
      ],
      "execution_count": null,
      "outputs": [
        {
          "output_type": "execute_result",
          "data": {
            "text/html": [
              "<div>\n",
              "<style scoped>\n",
              "    .dataframe tbody tr th:only-of-type {\n",
              "        vertical-align: middle;\n",
              "    }\n",
              "\n",
              "    .dataframe tbody tr th {\n",
              "        vertical-align: top;\n",
              "    }\n",
              "\n",
              "    .dataframe thead th {\n",
              "        text-align: right;\n",
              "    }\n",
              "</style>\n",
              "<table border=\"1\" class=\"dataframe\">\n",
              "  <thead>\n",
              "    <tr style=\"text-align: right;\">\n",
              "      <th></th>\n",
              "      <th>Postal code</th>\n",
              "      <th>date</th>\n",
              "      <th>n_daily_data_points</th>\n",
              "      <th>dayOfWeek</th>\n",
              "      <th>day_type</th>\n",
              "      <th>BlueCars_taken_sum</th>\n",
              "      <th>BlueCars_returned_sum</th>\n",
              "      <th>Utilib_taken_sum</th>\n",
              "      <th>Utilib_returned_sum</th>\n",
              "      <th>Utilib_14_taken_sum</th>\n",
              "      <th>Utilib_14_returned_sum</th>\n",
              "      <th>Slots_freed_sum</th>\n",
              "      <th>Slots_taken_sum</th>\n",
              "      <th>Day_Of_Week</th>\n",
              "      <th>Department</th>\n",
              "    </tr>\n",
              "  </thead>\n",
              "  <tbody>\n",
              "    <tr>\n",
              "      <th>0</th>\n",
              "      <td>75001</td>\n",
              "      <td>1/1/2018</td>\n",
              "      <td>1440</td>\n",
              "      <td>0</td>\n",
              "      <td>weekday</td>\n",
              "      <td>110</td>\n",
              "      <td>103</td>\n",
              "      <td>3</td>\n",
              "      <td>2</td>\n",
              "      <td>10</td>\n",
              "      <td>9</td>\n",
              "      <td>22</td>\n",
              "      <td>20</td>\n",
              "      <td>Monday</td>\n",
              "      <td>Paris</td>\n",
              "    </tr>\n",
              "    <tr>\n",
              "      <th>1</th>\n",
              "      <td>75001</td>\n",
              "      <td>1/2/2018</td>\n",
              "      <td>1438</td>\n",
              "      <td>1</td>\n",
              "      <td>weekday</td>\n",
              "      <td>98</td>\n",
              "      <td>94</td>\n",
              "      <td>1</td>\n",
              "      <td>1</td>\n",
              "      <td>8</td>\n",
              "      <td>8</td>\n",
              "      <td>23</td>\n",
              "      <td>22</td>\n",
              "      <td>Tuesday</td>\n",
              "      <td>Paris</td>\n",
              "    </tr>\n",
              "    <tr>\n",
              "      <th>2</th>\n",
              "      <td>75001</td>\n",
              "      <td>1/3/2018</td>\n",
              "      <td>1439</td>\n",
              "      <td>2</td>\n",
              "      <td>weekday</td>\n",
              "      <td>138</td>\n",
              "      <td>139</td>\n",
              "      <td>0</td>\n",
              "      <td>0</td>\n",
              "      <td>2</td>\n",
              "      <td>2</td>\n",
              "      <td>27</td>\n",
              "      <td>27</td>\n",
              "      <td>Wednesday</td>\n",
              "      <td>Paris</td>\n",
              "    </tr>\n",
              "    <tr>\n",
              "      <th>3</th>\n",
              "      <td>75001</td>\n",
              "      <td>1/4/2018</td>\n",
              "      <td>1320</td>\n",
              "      <td>3</td>\n",
              "      <td>weekday</td>\n",
              "      <td>104</td>\n",
              "      <td>104</td>\n",
              "      <td>2</td>\n",
              "      <td>2</td>\n",
              "      <td>9</td>\n",
              "      <td>8</td>\n",
              "      <td>25</td>\n",
              "      <td>21</td>\n",
              "      <td>Thursday</td>\n",
              "      <td>Paris</td>\n",
              "    </tr>\n",
              "  </tbody>\n",
              "</table>\n",
              "</div>"
            ],
            "text/plain": [
              "   Postal code      date  ...  Day_Of_Week  Department\n",
              "0        75001  1/1/2018  ...       Monday       Paris\n",
              "1        75001  1/2/2018  ...      Tuesday       Paris\n",
              "2        75001  1/3/2018  ...    Wednesday       Paris\n",
              "3        75001  1/4/2018  ...     Thursday       Paris\n",
              "\n",
              "[4 rows x 15 columns]"
            ]
          },
          "metadata": {},
          "execution_count": 20
        }
      ]
    },
    {
      "cell_type": "markdown",
      "metadata": {
        "id": "eSrjDlMvwpR0"
      },
      "source": [
        "Irrelevant Observations"
      ]
    },
    {
      "cell_type": "code",
      "metadata": {
        "colab": {
          "base_uri": "https://localhost:8080/",
          "height": 240
        },
        "id": "wZ-H8zHqwo4a",
        "outputId": "9ed0f080-ec98-41ec-a148-365ca17c5246"
      },
      "source": [
        "#Since the analysis will mainly focus on the Blue cars, columns with data on Utilib and Utilib 14 are dropped:\n",
        "df.drop(df.columns[[3, 7, 8, 9, 10]], axis=1, inplace = True)\n",
        "df.head()\n"
      ],
      "execution_count": null,
      "outputs": [
        {
          "output_type": "execute_result",
          "data": {
            "text/html": [
              "<div>\n",
              "<style scoped>\n",
              "    .dataframe tbody tr th:only-of-type {\n",
              "        vertical-align: middle;\n",
              "    }\n",
              "\n",
              "    .dataframe tbody tr th {\n",
              "        vertical-align: top;\n",
              "    }\n",
              "\n",
              "    .dataframe thead th {\n",
              "        text-align: right;\n",
              "    }\n",
              "</style>\n",
              "<table border=\"1\" class=\"dataframe\">\n",
              "  <thead>\n",
              "    <tr style=\"text-align: right;\">\n",
              "      <th></th>\n",
              "      <th>Postal code</th>\n",
              "      <th>date</th>\n",
              "      <th>n_daily_data_points</th>\n",
              "      <th>day_type</th>\n",
              "      <th>BlueCars_taken_sum</th>\n",
              "      <th>BlueCars_returned_sum</th>\n",
              "      <th>Slots_freed_sum</th>\n",
              "      <th>Slots_taken_sum</th>\n",
              "      <th>Day_Of_Week</th>\n",
              "      <th>Department</th>\n",
              "    </tr>\n",
              "  </thead>\n",
              "  <tbody>\n",
              "    <tr>\n",
              "      <th>0</th>\n",
              "      <td>75001</td>\n",
              "      <td>1/1/2018</td>\n",
              "      <td>1440</td>\n",
              "      <td>weekday</td>\n",
              "      <td>110</td>\n",
              "      <td>103</td>\n",
              "      <td>22</td>\n",
              "      <td>20</td>\n",
              "      <td>Monday</td>\n",
              "      <td>Paris</td>\n",
              "    </tr>\n",
              "    <tr>\n",
              "      <th>1</th>\n",
              "      <td>75001</td>\n",
              "      <td>1/2/2018</td>\n",
              "      <td>1438</td>\n",
              "      <td>weekday</td>\n",
              "      <td>98</td>\n",
              "      <td>94</td>\n",
              "      <td>23</td>\n",
              "      <td>22</td>\n",
              "      <td>Tuesday</td>\n",
              "      <td>Paris</td>\n",
              "    </tr>\n",
              "    <tr>\n",
              "      <th>2</th>\n",
              "      <td>75001</td>\n",
              "      <td>1/3/2018</td>\n",
              "      <td>1439</td>\n",
              "      <td>weekday</td>\n",
              "      <td>138</td>\n",
              "      <td>139</td>\n",
              "      <td>27</td>\n",
              "      <td>27</td>\n",
              "      <td>Wednesday</td>\n",
              "      <td>Paris</td>\n",
              "    </tr>\n",
              "    <tr>\n",
              "      <th>3</th>\n",
              "      <td>75001</td>\n",
              "      <td>1/4/2018</td>\n",
              "      <td>1320</td>\n",
              "      <td>weekday</td>\n",
              "      <td>104</td>\n",
              "      <td>104</td>\n",
              "      <td>25</td>\n",
              "      <td>21</td>\n",
              "      <td>Thursday</td>\n",
              "      <td>Paris</td>\n",
              "    </tr>\n",
              "    <tr>\n",
              "      <th>4</th>\n",
              "      <td>75001</td>\n",
              "      <td>1/5/2018</td>\n",
              "      <td>1440</td>\n",
              "      <td>weekday</td>\n",
              "      <td>114</td>\n",
              "      <td>117</td>\n",
              "      <td>18</td>\n",
              "      <td>20</td>\n",
              "      <td>Friday</td>\n",
              "      <td>Paris</td>\n",
              "    </tr>\n",
              "  </tbody>\n",
              "</table>\n",
              "</div>"
            ],
            "text/plain": [
              "   Postal code      date  ...  Day_Of_Week Department\n",
              "0        75001  1/1/2018  ...       Monday      Paris\n",
              "1        75001  1/2/2018  ...      Tuesday      Paris\n",
              "2        75001  1/3/2018  ...    Wednesday      Paris\n",
              "3        75001  1/4/2018  ...     Thursday      Paris\n",
              "4        75001  1/5/2018  ...       Friday      Paris\n",
              "\n",
              "[5 rows x 10 columns]"
            ]
          },
          "metadata": {},
          "execution_count": 21
        }
      ]
    },
    {
      "cell_type": "markdown",
      "metadata": {
        "id": "mFBjGkBRcn9c"
      },
      "source": [
        "Renaming Column names"
      ]
    },
    {
      "cell_type": "code",
      "metadata": {
        "id": "YbbFYjVcyRAR"
      },
      "source": [
        "#Renaming columns for ease:\n",
        "df1 = df.rename(columns = {'Postal code': 'Postal_Code', 'date':'Date','n_daily_data_points':'Daily_Data_Points','day_type':'Type_of_Day','BlueCars_taken_sum':'Taken_Bluecars','BlueCars_returned_sum':'Returned_Bluecars','Slots_freed_sum':'Free_Slots','Slots_taken_sum':'Taken_Slots'})\n"
      ],
      "execution_count": null,
      "outputs": []
    },
    {
      "cell_type": "markdown",
      "metadata": {
        "id": "Er1fg7mLpvZj"
      },
      "source": [
        "Assigning Date Column the correct datatype"
      ]
    },
    {
      "cell_type": "code",
      "metadata": {
        "colab": {
          "base_uri": "https://localhost:8080/",
          "height": 172
        },
        "id": "mweOusvntdps",
        "outputId": "6e34e122-f1cd-4ea2-c81f-0364893bedb6"
      },
      "source": [
        "#Converting dates to datetime:\n",
        "df1['Date']= pd.to_datetime(df1['Date'])\n",
        "df1.head(4)\n"
      ],
      "execution_count": null,
      "outputs": [
        {
          "output_type": "execute_result",
          "data": {
            "text/html": [
              "<div>\n",
              "<style scoped>\n",
              "    .dataframe tbody tr th:only-of-type {\n",
              "        vertical-align: middle;\n",
              "    }\n",
              "\n",
              "    .dataframe tbody tr th {\n",
              "        vertical-align: top;\n",
              "    }\n",
              "\n",
              "    .dataframe thead th {\n",
              "        text-align: right;\n",
              "    }\n",
              "</style>\n",
              "<table border=\"1\" class=\"dataframe\">\n",
              "  <thead>\n",
              "    <tr style=\"text-align: right;\">\n",
              "      <th></th>\n",
              "      <th>Postal_Code</th>\n",
              "      <th>Date</th>\n",
              "      <th>Daily_Data_Points</th>\n",
              "      <th>Type_of_Day</th>\n",
              "      <th>Taken_Bluecars</th>\n",
              "      <th>Returned_Bluecars</th>\n",
              "      <th>Free_Slots</th>\n",
              "      <th>Taken_Slots</th>\n",
              "      <th>Day_Of_Week</th>\n",
              "      <th>Department</th>\n",
              "    </tr>\n",
              "  </thead>\n",
              "  <tbody>\n",
              "    <tr>\n",
              "      <th>0</th>\n",
              "      <td>75001</td>\n",
              "      <td>2018-01-01</td>\n",
              "      <td>1440</td>\n",
              "      <td>weekday</td>\n",
              "      <td>110</td>\n",
              "      <td>103</td>\n",
              "      <td>22</td>\n",
              "      <td>20</td>\n",
              "      <td>Monday</td>\n",
              "      <td>Paris</td>\n",
              "    </tr>\n",
              "    <tr>\n",
              "      <th>1</th>\n",
              "      <td>75001</td>\n",
              "      <td>2018-01-02</td>\n",
              "      <td>1438</td>\n",
              "      <td>weekday</td>\n",
              "      <td>98</td>\n",
              "      <td>94</td>\n",
              "      <td>23</td>\n",
              "      <td>22</td>\n",
              "      <td>Tuesday</td>\n",
              "      <td>Paris</td>\n",
              "    </tr>\n",
              "    <tr>\n",
              "      <th>2</th>\n",
              "      <td>75001</td>\n",
              "      <td>2018-01-03</td>\n",
              "      <td>1439</td>\n",
              "      <td>weekday</td>\n",
              "      <td>138</td>\n",
              "      <td>139</td>\n",
              "      <td>27</td>\n",
              "      <td>27</td>\n",
              "      <td>Wednesday</td>\n",
              "      <td>Paris</td>\n",
              "    </tr>\n",
              "    <tr>\n",
              "      <th>3</th>\n",
              "      <td>75001</td>\n",
              "      <td>2018-01-04</td>\n",
              "      <td>1320</td>\n",
              "      <td>weekday</td>\n",
              "      <td>104</td>\n",
              "      <td>104</td>\n",
              "      <td>25</td>\n",
              "      <td>21</td>\n",
              "      <td>Thursday</td>\n",
              "      <td>Paris</td>\n",
              "    </tr>\n",
              "  </tbody>\n",
              "</table>\n",
              "</div>"
            ],
            "text/plain": [
              "   Postal_Code       Date  ...  Day_Of_Week Department\n",
              "0        75001 2018-01-01  ...       Monday      Paris\n",
              "1        75001 2018-01-02  ...      Tuesday      Paris\n",
              "2        75001 2018-01-03  ...    Wednesday      Paris\n",
              "3        75001 2018-01-04  ...     Thursday      Paris\n",
              "\n",
              "[4 rows x 10 columns]"
            ]
          },
          "metadata": {},
          "execution_count": 23
        }
      ]
    },
    {
      "cell_type": "markdown",
      "metadata": {
        "id": "w3si4sX9ufp5"
      },
      "source": [
        "Missing and Duplicate values"
      ]
    },
    {
      "cell_type": "code",
      "metadata": {
        "colab": {
          "base_uri": "https://localhost:8080/"
        },
        "id": "MRz9K1rXube4",
        "outputId": "f34a0286-02bb-48eb-a5ef-e26ab39a4d77"
      },
      "source": [
        "#Checking for Missing values:\n",
        "df1.isnull().sum()\n"
      ],
      "execution_count": null,
      "outputs": [
        {
          "output_type": "execute_result",
          "data": {
            "text/plain": [
              "Postal_Code          0\n",
              "Date                 0\n",
              "Daily_Data_Points    0\n",
              "Type_of_Day          0\n",
              "Taken_Bluecars       0\n",
              "Returned_Bluecars    0\n",
              "Free_Slots           0\n",
              "Taken_Slots          0\n",
              "Day_Of_Week          0\n",
              "Department           0\n",
              "dtype: int64"
            ]
          },
          "metadata": {},
          "execution_count": 24
        }
      ]
    },
    {
      "cell_type": "code",
      "metadata": {
        "colab": {
          "base_uri": "https://localhost:8080/"
        },
        "id": "g0yNsL3Buw-I",
        "outputId": "21947905-dc92-46a9-8313-ed46fc44fb19"
      },
      "source": [
        "#Checking for Duplicates:\n",
        "df1.duplicated().sum()\n"
      ],
      "execution_count": null,
      "outputs": [
        {
          "output_type": "execute_result",
          "data": {
            "text/plain": [
              "0"
            ]
          },
          "metadata": {},
          "execution_count": 25
        }
      ]
    },
    {
      "cell_type": "markdown",
      "metadata": {
        "id": "fUwB_C3ZvKow"
      },
      "source": [
        "Outliers and Anomalies"
      ]
    },
    {
      "cell_type": "code",
      "metadata": {
        "colab": {
          "base_uri": "https://localhost:8080/",
          "height": 436
        },
        "id": "D8PWt_tzvEzM",
        "outputId": "a67e4090-6278-442c-c8e8-80f135ee459a"
      },
      "source": [
        "#Checking for outliers:\n",
        "df1.boxplot(figsize=(8, 5), fontsize=10, grid=True, rot= 50)\n",
        "plt.title('Outliers Check')\n",
        "plt.xlabel('Numerical Variables')\n",
        "plt.ylabel('Frequency')\n"
      ],
      "execution_count": null,
      "outputs": [
        {
          "output_type": "execute_result",
          "data": {
            "text/plain": [
              "Text(0, 0.5, 'Frequency')"
            ]
          },
          "metadata": {},
          "execution_count": 26
        },
        {
          "output_type": "display_data",
          "data": {
            "image/png": "[encoded data removed]",
            "text/plain": [
              "<Figure size 576x360 with 1 Axes>"
            ]
          },
          "metadata": {
            "needs_background": "light"
          }
        }
      ]
    },
    {
      "cell_type": "markdown",
      "metadata": {
        "id": "yTBmHCKICxYO"
      },
      "source": [
        "In this case, we choose not to drop any outlier as this are valid observations."
      ]
    },
    {
      "cell_type": "markdown",
      "metadata": {
        "id": "oTy7Bbx9imdu"
      },
      "source": [
        "Measuring Variability"
      ]
    },
    {
      "cell_type": "code",
      "metadata": {
        "colab": {
          "base_uri": "https://localhost:8080/"
        },
        "id": "R2Q2CQmrhRaz",
        "outputId": "6ef33c5b-9ce3-400e-a156-7e1310ffd197"
      },
      "source": [
        "#Finding IQR:\n",
        "Q1 = df1['Taken_Bluecars'].quantile(0.25)\n",
        "Q3 = df1['Taken_Bluecars'].quantile(0.75)\n",
        "Q1, Q3      #Q1=20 and Q3=135\n",
        "\n",
        "#Finding Interquartile\n",
        "IQR = Q3 - Q1\n",
        "IQR         \n",
        "\n",
        "#Finding the Lower and Upper Limits:\n",
        "#lower_limit = Q1-1.5*IQR\n",
        "#upper_limit = Q3+1.5*IQR\n",
        "#lower_limit, upper_limit\n"
      ],
      "execution_count": null,
      "outputs": [
        {
          "output_type": "execute_result",
          "data": {
            "text/plain": [
              "115.0"
            ]
          },
          "metadata": {},
          "execution_count": 27
        }
      ]
    },
    {
      "cell_type": "markdown",
      "metadata": {
        "id": "tSBpSY7BiPKJ"
      },
      "source": [
        "The middle of the taken bluecars when ordered from lowest to highest is 115"
      ]
    },
    {
      "cell_type": "markdown",
      "metadata": {
        "id": "nH_B9Ha7jJ2a"
      },
      "source": [
        "Exporting dataset"
      ]
    },
    {
      "cell_type": "code",
      "metadata": {
        "id": "xu-9L8P-jEy4"
      },
      "source": [
        "df1.to_csv('CleanedAutolib.csv')\n"
      ],
      "execution_count": null,
      "outputs": []
    },
    {
      "cell_type": "markdown",
      "metadata": {
        "id": "qELVfOCakeqR"
      },
      "source": [
        "# **Exploratory Data Analysis**"
      ]
    },
    {
      "cell_type": "markdown",
      "metadata": {
        "id": "K5iBNbuNkmN1"
      },
      "source": [
        "**Univariate Analysis**"
      ]
    },
    {
      "cell_type": "markdown",
      "metadata": {
        "id": "j8NQE41JvoDf"
      },
      "source": [
        "We perform this analysis with an aim of describing the data and finding patterns that exist within."
      ]
    },
    {
      "cell_type": "markdown",
      "metadata": {
        "id": "uP499KNuwPtr"
      },
      "source": [
        "- Numerical Variables"
      ]
    },
    {
      "cell_type": "code",
      "metadata": {
        "colab": {
          "base_uri": "https://localhost:8080/",
          "height": 295
        },
        "id": "6J1F5prfkrB_",
        "outputId": "68ba8696-dbb2-4387-bbaf-bd7b71978b00"
      },
      "source": [
        "#Describing variables based on the Central Tendency:\n",
        "df1.describe()\n"
      ],
      "execution_count": null,
      "outputs": [
        {
          "output_type": "execute_result",
          "data": {
            "text/html": [
              "<div>\n",
              "<style scoped>\n",
              "    .dataframe tbody tr th:only-of-type {\n",
              "        vertical-align: middle;\n",
              "    }\n",
              "\n",
              "    .dataframe tbody tr th {\n",
              "        vertical-align: top;\n",
              "    }\n",
              "\n",
              "    .dataframe thead th {\n",
              "        text-align: right;\n",
              "    }\n",
              "</style>\n",
              "<table border=\"1\" class=\"dataframe\">\n",
              "  <thead>\n",
              "    <tr style=\"text-align: right;\">\n",
              "      <th></th>\n",
              "      <th>Postal_Code</th>\n",
              "      <th>Daily_Data_Points</th>\n",
              "      <th>Taken_Bluecars</th>\n",
              "      <th>Returned_Bluecars</th>\n",
              "      <th>Free_Slots</th>\n",
              "      <th>Taken_Slots</th>\n",
              "    </tr>\n",
              "  </thead>\n",
              "  <tbody>\n",
              "    <tr>\n",
              "      <th>count</th>\n",
              "      <td>16085.000000</td>\n",
              "      <td>16085.000000</td>\n",
              "      <td>16085.000000</td>\n",
              "      <td>16085.000000</td>\n",
              "      <td>16085.000000</td>\n",
              "      <td>16085.000000</td>\n",
              "    </tr>\n",
              "    <tr>\n",
              "      <th>mean</th>\n",
              "      <td>88791.293876</td>\n",
              "      <td>1431.330619</td>\n",
              "      <td>125.926951</td>\n",
              "      <td>125.912714</td>\n",
              "      <td>22.629033</td>\n",
              "      <td>22.629282</td>\n",
              "    </tr>\n",
              "    <tr>\n",
              "      <th>std</th>\n",
              "      <td>7647.342000</td>\n",
              "      <td>33.212050</td>\n",
              "      <td>185.426579</td>\n",
              "      <td>185.501535</td>\n",
              "      <td>52.120263</td>\n",
              "      <td>52.146030</td>\n",
              "    </tr>\n",
              "    <tr>\n",
              "      <th>min</th>\n",
              "      <td>75001.000000</td>\n",
              "      <td>1174.000000</td>\n",
              "      <td>0.000000</td>\n",
              "      <td>0.000000</td>\n",
              "      <td>0.000000</td>\n",
              "      <td>0.000000</td>\n",
              "    </tr>\n",
              "    <tr>\n",
              "      <th>25%</th>\n",
              "      <td>91330.000000</td>\n",
              "      <td>1439.000000</td>\n",
              "      <td>20.000000</td>\n",
              "      <td>20.000000</td>\n",
              "      <td>0.000000</td>\n",
              "      <td>0.000000</td>\n",
              "    </tr>\n",
              "    <tr>\n",
              "      <th>50%</th>\n",
              "      <td>92340.000000</td>\n",
              "      <td>1440.000000</td>\n",
              "      <td>46.000000</td>\n",
              "      <td>46.000000</td>\n",
              "      <td>0.000000</td>\n",
              "      <td>0.000000</td>\n",
              "    </tr>\n",
              "    <tr>\n",
              "      <th>75%</th>\n",
              "      <td>93400.000000</td>\n",
              "      <td>1440.000000</td>\n",
              "      <td>135.000000</td>\n",
              "      <td>135.000000</td>\n",
              "      <td>5.000000</td>\n",
              "      <td>5.000000</td>\n",
              "    </tr>\n",
              "    <tr>\n",
              "      <th>max</th>\n",
              "      <td>95880.000000</td>\n",
              "      <td>1440.000000</td>\n",
              "      <td>1352.000000</td>\n",
              "      <td>1332.000000</td>\n",
              "      <td>360.000000</td>\n",
              "      <td>359.000000</td>\n",
              "    </tr>\n",
              "  </tbody>\n",
              "</table>\n",
              "</div>"
            ],
            "text/plain": [
              "        Postal_Code  Daily_Data_Points  ...    Free_Slots   Taken_Slots\n",
              "count  16085.000000       16085.000000  ...  16085.000000  16085.000000\n",
              "mean   88791.293876        1431.330619  ...     22.629033     22.629282\n",
              "std     7647.342000          33.212050  ...     52.120263     52.146030\n",
              "min    75001.000000        1174.000000  ...      0.000000      0.000000\n",
              "25%    91330.000000        1439.000000  ...      0.000000      0.000000\n",
              "50%    92340.000000        1440.000000  ...      0.000000      0.000000\n",
              "75%    93400.000000        1440.000000  ...      5.000000      5.000000\n",
              "max    95880.000000        1440.000000  ...    360.000000    359.000000\n",
              "\n",
              "[8 rows x 6 columns]"
            ]
          },
          "metadata": {},
          "execution_count": 28
        }
      ]
    },
    {
      "cell_type": "code",
      "metadata": {
        "colab": {
          "base_uri": "https://localhost:8080/",
          "height": 405
        },
        "id": "d9RaMWTUkMbW",
        "outputId": "8aa85980-2124-4ab4-993e-fe28a4294e61"
      },
      "source": [
        "#Plotting a boxplot on the bluecars taken to view the distribution:\n",
        "fig,axes=plt.subplots(1,2, figsize=(12,6))\n",
        "sns.distplot(df1.Taken_Bluecars, hist=True, kde=True, color='y', ax=axes[0])\n",
        "\n",
        "#To also plot the Range:\n",
        "sns.boxplot(df1.Taken_Bluecars, color='y', ax=axes[1])\n",
        "axes[0].set_title('Distribution Of Taken Bluecars')\n",
        "axes[1].set_title('Boxplot of Taken Bluecars')\n",
        "\n",
        "plt.show()\n"
      ],
      "execution_count": null,
      "outputs": [
        {
          "output_type": "display_data",
          "data": {
            "image/png": "[encoded data removed]",
            "text/plain": [
              "<Figure size 864x432 with 2 Axes>"
            ]
          },
          "metadata": {
            "needs_background": "light"
          }
        }
      ]
    },
    {
      "cell_type": "markdown",
      "metadata": {
        "id": "-VDIMSXtmQGS"
      },
      "source": [
        "Data on the total bluecars taken is skewed to the right meaning that the mean value will be greater than the median and mode"
      ]
    },
    {
      "cell_type": "markdown",
      "metadata": {
        "id": "jhu6NVTawcgU"
      },
      "source": [
        "- Categorical Variable"
      ]
    },
    {
      "cell_type": "markdown",
      "metadata": {
        "id": "kz7IBMoepRAf"
      },
      "source": [
        "Area Distribution"
      ]
    },
    {
      "cell_type": "code",
      "metadata": {
        "colab": {
          "base_uri": "https://localhost:8080/",
          "height": 427
        },
        "id": "d5bPphmRAh4t",
        "outputId": "5cf94035-d4f2-4119-ddd7-e32959d4c3cf"
      },
      "source": [
        "#Viewing the distribution of data in terms of the regional departments:\n",
        "df1['Department'].value_counts() \n",
        "\n",
        "#Visualizing the Information on a bar chart:\n",
        "sns.set(font_scale=1.2)\n",
        "df1['Department'].value_counts().plot(kind='bar', figsize=(14, 6), rot=0)\n",
        "plt.xlabel(\"Area Name\", labelpad=10)\n",
        "plt.ylabel(\"Frequency\", labelpad=10)\n",
        "plt.title(\"Regional Distribution\", y=1.02);    "
      ],
      "execution_count": null,
      "outputs": [
        {
          "output_type": "display_data",
          "data": {
            "image/png": "[encoded data removed]",
            "text/plain": [
              "<Figure size 1008x432 with 1 Axes>"
            ]
          },
          "metadata": {}
        }
      ]
    },
    {
      "cell_type": "markdown",
      "metadata": {
        "id": "OLA4j53DpB4x"
      },
      "source": [
        "Out of the 16,085 Postal codes, Hauts-de-Seine reported the highest number of observations with 5,601 followed by Paris with 3,431."
      ]
    },
    {
      "cell_type": "markdown",
      "metadata": {
        "id": "NroS7g7NpVEk"
      },
      "source": [
        "Type of Day"
      ]
    },
    {
      "cell_type": "code",
      "metadata": {
        "colab": {
          "base_uri": "https://localhost:8080/",
          "height": 265
        },
        "id": "2rhb-JvCEEF1",
        "outputId": "b2c14fe8-6ba1-47ad-fa6d-171df8953764"
      },
      "source": [
        "#Categorising our data based on the type of day:\n",
        "df1['Type_of_Day'].value_counts()\n",
        "# Weekday: 11,544      Weekend: 4,541\n",
        "\n",
        "#Visualising the information on a pie chart:\n",
        "labels= ['Weekday','Weekend']\n",
        "colors=['C7', 'C5']\n",
        "sizes= [11544, 4541]\n",
        "plt.pie(sizes,labels=labels, colors=colors, startangle=90, shadow=True,explode=(0, 0.1), autopct='%1.2f%%')\n",
        "plt.title('Type of Day')\n",
        "plt.axis('equal')\n",
        "plt.show()\n",
        "\n"
      ],
      "execution_count": null,
      "outputs": [
        {
          "output_type": "display_data",
          "data": {
            "image/png": "[encoded data removed]",
            "text/plain": [
              "<Figure size 432x288 with 1 Axes>"
            ]
          },
          "metadata": {}
        }
      ]
    },
    {
      "cell_type": "markdown",
      "metadata": {
        "id": "siBbuaVDptzd"
      },
      "source": [
        "72% of the data collected was from a weekday"
      ]
    },
    {
      "cell_type": "markdown",
      "metadata": {
        "id": "qGmN05YHqVlv"
      },
      "source": [
        "Day of the week"
      ]
    },
    {
      "cell_type": "code",
      "metadata": {
        "colab": {
          "base_uri": "https://localhost:8080/"
        },
        "id": "I28FWk_ZEyq2",
        "outputId": "07f59cce-a328-4135-9570-1a7a9366a2f2"
      },
      "source": [
        "#Viewing the Data in terms of Days of the week:\n",
        "df1['Day_Of_Week'].value_counts()\n"
      ],
      "execution_count": null,
      "outputs": [
        {
          "output_type": "execute_result",
          "data": {
            "text/plain": [
              "Monday       2374\n",
              "Tuesday      2363\n",
              "Sunday       2274\n",
              "Friday       2271\n",
              "Thursday     2268\n",
              "Wednesday    2268\n",
              "Saturday     2267\n",
              "Name: Day_Of_Week, dtype: int64"
            ]
          },
          "metadata": {},
          "execution_count": 32
        }
      ]
    },
    {
      "cell_type": "markdown",
      "metadata": {
        "id": "iwlrwlnvqpMQ"
      },
      "source": [
        "Monday had the highest number of activites from the dataset."
      ]
    },
    {
      "cell_type": "markdown",
      "metadata": {
        "id": "i3IJI9Ncr1jf"
      },
      "source": [
        "**Findings**\n",
        "\n",
        "From this analysis;\n",
        "\n",
        "- Since most of the observations captured were from unique postal codes, no outlier was dropped on the total blue cars taken  hence the data does not follow a normal distribution. \n",
        "- Hauts-de-Seine had the highest number of observations.\n",
        "- Majority of the information was picked from a weekday.\n",
        "\n",
        "Recommendations;\n",
        "- Further analysis to be performed to detect any relationship between the different variables\n",
        "\n"
      ]
    },
    {
      "cell_type": "markdown",
      "metadata": {
        "id": "C9azjHbBrwCx"
      },
      "source": [
        "**Bivariate Analysis**"
      ]
    },
    {
      "cell_type": "markdown",
      "metadata": {
        "id": "LdK0q_VXPGdQ"
      },
      "source": [
        "This analysis is conducted with an aim of determining whether a statistical association exists between any two variables in our dataset."
      ]
    },
    {
      "cell_type": "markdown",
      "metadata": {
        "id": "nqYUbSvoGAim"
      },
      "source": [
        "- Numerical Variables"
      ]
    },
    {
      "cell_type": "markdown",
      "metadata": {
        "id": "CYswD27wtbxX"
      },
      "source": [
        "Correlation Test"
      ]
    },
    {
      "cell_type": "code",
      "metadata": {
        "colab": {
          "base_uri": "https://localhost:8080/",
          "height": 418
        },
        "id": "Rtd8h7EGGT1q",
        "outputId": "e6bc5a18-3911-4cfd-c335-9427a0d1c8d5"
      },
      "source": [
        "#To check for correlation between our variables:\n",
        "Corr = df1.corr(method='pearson')\n",
        "Corr\n",
        "\n",
        "import seaborn as sb\n",
        "\n",
        "#Visualizing this for comparisons:\n",
        "sb.heatmap(Corr, xticklabels=Corr.columns, yticklabels=Corr.columns, cmap='RdBu_r', annot=True, linewidth=0.7)\n",
        "plt.title(\"Correlation matrix of Autolib Data\")\n",
        "plt.xlabel(\"Features\")\n",
        "plt.ylabel(\"Features\")\n",
        "plt.show()"
      ],
      "execution_count": null,
      "outputs": [
        {
          "output_type": "display_data",
          "data": {
            "image/png": "[encoded data removed]",
            "text/plain": [
              "<Figure size 432x288 with 2 Axes>"
            ]
          },
          "metadata": {}
        }
      ]
    },
    {
      "cell_type": "markdown",
      "metadata": {
        "id": "a3g3Jhr_P7LA"
      },
      "source": [
        "\n",
        "From the above correlation matrix;\n",
        "\n",
        "- A strong correlation of 1 exists between Bluecars taken and Bluecars returned.\n",
        "\n",
        "- A strong 0.95 linear relationship between bluecars taken with Free slots and taken slots is evidenced.\n",
        "\n",
        "- There exists no relationship between the variables indicating the Postal codes and Daily data points"
      ]
    },
    {
      "cell_type": "code",
      "metadata": {
        "colab": {
          "base_uri": "https://localhost:8080/",
          "height": 343
        },
        "id": "OTdTQ9V9PpAP",
        "outputId": "ef6cd9ac-ac61-4736-f38f-461f5e241b97"
      },
      "source": [
        "#Visualizing the relationship between Bluecars taken and Bluecars returned:\n",
        "df1.plot(x = 'Taken_Bluecars', y = 'Returned_Bluecars', kind='scatter')\n",
        "plt.title('Relationship between Bluecars Taken and Returned')\n",
        "plt.xlabel('Taken_Bluecars')\n",
        "plt.ylabel('Returned_Bluecars')\n",
        "plt.show()\n"
      ],
      "execution_count": null,
      "outputs": [
        {
          "output_type": "stream",
          "name": "stderr",
          "text": [
            "*c* argument looks like a single numeric RGB or RGBA sequence, which should be avoided as value-mapping will have precedence in case its length matches with *x* & *y*.  Please use the *color* keyword-argument or provide a 2-D array with a single row if you intend to specify the same RGB or RGBA value for all points.\n"
          ]
        },
        {
          "output_type": "display_data",
          "data": {
            "image/png": "[encoded data removed]",
            "text/plain": [
              "<Figure size 432x288 with 1 Axes>"
            ]
          },
          "metadata": {}
        }
      ]
    },
    {
      "cell_type": "markdown",
      "metadata": {
        "id": "CVxZua4wTVPd"
      },
      "source": [
        "- Categorical Variables"
      ]
    },
    {
      "cell_type": "code",
      "metadata": {
        "colab": {
          "base_uri": "https://localhost:8080/",
          "height": 415
        },
        "id": "oKrPRJwZTSjd",
        "outputId": "6af2fa41-0091-43a0-d8e0-27d11adb4c53"
      },
      "source": [
        "#To show the type of day data was gathered per the different areas:\n",
        "C=pd.crosstab(index=df1['Department'],columns=df1['Type_of_Day'])\n",
        "C.plot.bar(figsize=(14,6), rot=0)\n"
      ],
      "execution_count": null,
      "outputs": [
        {
          "output_type": "execute_result",
          "data": {
            "text/plain": [
              "<matplotlib.axes._subplots.AxesSubplot at 0x7f28192ae990>"
            ]
          },
          "metadata": {},
          "execution_count": 236
        },
        {
          "output_type": "display_data",
          "data": {
            "image/png": "[encoded data removed]",
            "text/plain": [
              "<Figure size 1008x432 with 1 Axes>"
            ]
          },
          "metadata": {}
        }
      ]
    },
    {
      "cell_type": "markdown",
      "metadata": {
        "id": "D3Oiboz4UYNI"
      },
      "source": [
        "Most of the car sharing and recharging activites captured in the different areas happened during weekdays"
      ]
    },
    {
      "cell_type": "code",
      "metadata": {
        "colab": {
          "base_uri": "https://localhost:8080/"
        },
        "id": "RAsCH52-b9Ph",
        "outputId": "6fe3ca7f-5e44-47b1-fcef-879a69039d21"
      },
      "source": [
        "#To view the average number of blue cars taken each day:\n",
        "df1.groupby(['Day_Of_Week'])['Taken_Bluecars'].mean().sort_values(ascending=False)"
      ],
      "execution_count": null,
      "outputs": [
        {
          "output_type": "execute_result",
          "data": {
            "text/plain": [
              "Day_Of_Week\n",
              "Saturday     156.124393\n",
              "Sunday       146.071240\n",
              "Friday       127.056803\n",
              "Thursday     116.052469\n",
              "Wednesday    115.453704\n",
              "Monday       111.159646\n",
              "Tuesday      110.850614\n",
              "Name: Taken_Bluecars, dtype: float64"
            ]
          },
          "metadata": {},
          "execution_count": 33
        }
      ]
    },
    {
      "cell_type": "markdown",
      "metadata": {
        "id": "TKVj2ePbczsp"
      },
      "source": [
        "Saturday and Sunday reported the highest number of Bluecars taken"
      ]
    },
    {
      "cell_type": "markdown",
      "metadata": {
        "id": "Xs8OnnqxdFlL"
      },
      "source": [
        "Pairplot"
      ]
    },
    {
      "cell_type": "markdown",
      "metadata": {
        "id": "nwCTcve8fueq"
      },
      "source": [
        "The plot helps visualise the relationship beween the different Observations"
      ]
    },
    {
      "cell_type": "code",
      "metadata": {
        "colab": {
          "base_uri": "https://localhost:8080/",
          "height": 546
        },
        "id": "YZRnvlr0U0MU",
        "outputId": "c616c5ac-6e80-411f-d3a9-3224d8891a1b"
      },
      "source": [
        "df1.drop(df1.columns[[2, 6, 7]], axis=1, inplace = True)\n",
        "sns.pairplot(df1)\n",
        "plt.show()"
      ],
      "execution_count": null,
      "outputs": [
        {
          "output_type": "display_data",
          "data": {
            "image/png": "[encoded data removed]",
            "text/plain": [
              "<Figure size 540x540 with 12 Axes>"
            ]
          },
          "metadata": {}
        }
      ]
    },
    {
      "cell_type": "markdown",
      "metadata": {
        "id": "8T1SWrHAdT0y"
      },
      "source": [
        "**Findings**\n",
        "\n",
        "From the analysis above;\n",
        "\n",
        "- A strong relationship exists between the number of Bluecars taken and Bluecars returned, Free slots and Taken slots.\n",
        "- A negative relationship exists between the Postal code areas and the Bluecars taken.\n",
        "\n",
        "Recommendation;\n",
        "- Variables selected for hypothesis testing be tested for dependency to ensure data accuracy.\n",
        "\n"
      ]
    },
    {
      "cell_type": "markdown",
      "metadata": {
        "id": "GIGINkzS72bf"
      },
      "source": [
        "# **Hypothesis Testing**"
      ]
    },
    {
      "cell_type": "markdown",
      "metadata": {
        "id": "HVAie-qUXyr8"
      },
      "source": [
        "The main objective of this analysis is to test if there Is any significant difference in the average number of bluecars taken in Yvelines and Val-d’Oise during the weekend.\n",
        "\n",
        "To perform this test we shall follow the below steps;\n",
        "\n"
      ]
    },
    {
      "cell_type": "markdown",
      "metadata": {
        "id": "TNU8fFxbZHG4"
      },
      "source": [
        "**Step 1**: Stating the Hypothesis"
      ]
    },
    {
      "cell_type": "markdown",
      "metadata": {
        "id": "wqJU3lpvZMQk"
      },
      "source": [
        "**Ho**: There is no significant difference between the average number of Bluecars taken during the weekend in Yvelines and Val-d’Oise.\n",
        "\n",
        "**Ha**: There is a significant difference between the average number of Bluecars taken during the weekend in Yvelines and Val-d’Oise\n",
        "\n",
        "\n"
      ]
    },
    {
      "cell_type": "markdown",
      "metadata": {
        "id": "DXgY-8WGu_B4"
      },
      "source": [
        "**Step 2**: Analysis Plan"
      ]
    },
    {
      "cell_type": "code",
      "metadata": {
        "colab": {
          "base_uri": "https://localhost:8080/",
          "height": 287
        },
        "id": "GXFOyHwGBu-E",
        "outputId": "bc83b180-cd1a-4a29-a45d-00b16d87d055"
      },
      "source": [
        "#Creating a dataframe containing the 2 areas:\n",
        "Population = df1.loc[df1['Department'].isin(['Yvelines',\"Val-d'Oise\"]) & df1['Type_of_Day'].isin(['weekend'])]\n",
        "Population.head(5)"
      ],
      "execution_count": null,
      "outputs": [
        {
          "output_type": "execute_result",
          "data": {
            "text/html": [
              "<div>\n",
              "<style scoped>\n",
              "    .dataframe tbody tr th:only-of-type {\n",
              "        vertical-align: middle;\n",
              "    }\n",
              "\n",
              "    .dataframe tbody tr th {\n",
              "        vertical-align: top;\n",
              "    }\n",
              "\n",
              "    .dataframe thead th {\n",
              "        text-align: right;\n",
              "    }\n",
              "</style>\n",
              "<table border=\"1\" class=\"dataframe\">\n",
              "  <thead>\n",
              "    <tr style=\"text-align: right;\">\n",
              "      <th></th>\n",
              "      <th>Postal_Code</th>\n",
              "      <th>Date</th>\n",
              "      <th>Daily_Data_Points</th>\n",
              "      <th>Type_of_Day</th>\n",
              "      <th>Taken_Bluecars</th>\n",
              "      <th>Returned_Bluecars</th>\n",
              "      <th>Free_Slots</th>\n",
              "      <th>Taken_Slots</th>\n",
              "      <th>Day_Of_Week</th>\n",
              "      <th>Department</th>\n",
              "    </tr>\n",
              "  </thead>\n",
              "  <tbody>\n",
              "    <tr>\n",
              "      <th>3436</th>\n",
              "      <td>78000</td>\n",
              "      <td>2018-01-06</td>\n",
              "      <td>1437</td>\n",
              "      <td>weekend</td>\n",
              "      <td>68</td>\n",
              "      <td>62</td>\n",
              "      <td>0</td>\n",
              "      <td>0</td>\n",
              "      <td>Saturday</td>\n",
              "      <td>Yvelines</td>\n",
              "    </tr>\n",
              "    <tr>\n",
              "      <th>3437</th>\n",
              "      <td>78000</td>\n",
              "      <td>2018-01-07</td>\n",
              "      <td>1440</td>\n",
              "      <td>weekend</td>\n",
              "      <td>67</td>\n",
              "      <td>60</td>\n",
              "      <td>0</td>\n",
              "      <td>0</td>\n",
              "      <td>Sunday</td>\n",
              "      <td>Yvelines</td>\n",
              "    </tr>\n",
              "    <tr>\n",
              "      <th>3443</th>\n",
              "      <td>78000</td>\n",
              "      <td>2018-01-13</td>\n",
              "      <td>1440</td>\n",
              "      <td>weekend</td>\n",
              "      <td>64</td>\n",
              "      <td>65</td>\n",
              "      <td>0</td>\n",
              "      <td>0</td>\n",
              "      <td>Saturday</td>\n",
              "      <td>Yvelines</td>\n",
              "    </tr>\n",
              "    <tr>\n",
              "      <th>3444</th>\n",
              "      <td>78000</td>\n",
              "      <td>2018-01-14</td>\n",
              "      <td>1440</td>\n",
              "      <td>weekend</td>\n",
              "      <td>70</td>\n",
              "      <td>62</td>\n",
              "      <td>0</td>\n",
              "      <td>0</td>\n",
              "      <td>Sunday</td>\n",
              "      <td>Yvelines</td>\n",
              "    </tr>\n",
              "    <tr>\n",
              "      <th>3450</th>\n",
              "      <td>78000</td>\n",
              "      <td>2018-01-20</td>\n",
              "      <td>1439</td>\n",
              "      <td>weekend</td>\n",
              "      <td>80</td>\n",
              "      <td>76</td>\n",
              "      <td>0</td>\n",
              "      <td>0</td>\n",
              "      <td>Saturday</td>\n",
              "      <td>Yvelines</td>\n",
              "    </tr>\n",
              "  </tbody>\n",
              "</table>\n",
              "</div>"
            ],
            "text/plain": [
              "      Postal_Code       Date  ...  Day_Of_Week Department\n",
              "3436        78000 2018-01-06  ...     Saturday   Yvelines\n",
              "3437        78000 2018-01-07  ...       Sunday   Yvelines\n",
              "3443        78000 2018-01-13  ...     Saturday   Yvelines\n",
              "3444        78000 2018-01-14  ...       Sunday   Yvelines\n",
              "3450        78000 2018-01-20  ...     Saturday   Yvelines\n",
              "\n",
              "[5 rows x 10 columns]"
            ]
          },
          "metadata": {},
          "execution_count": 34
        }
      ]
    },
    {
      "cell_type": "code",
      "metadata": {
        "colab": {
          "base_uri": "https://localhost:8080/",
          "height": 203
        },
        "id": "cTJJitoR9dWj",
        "outputId": "5744185c-1f27-42c9-c1ed-f6df00ed70aa"
      },
      "source": [
        "#Droping irrelevant observations:\n",
        "Population.drop(Population.columns[[0, 1, 2, 5, 6, 7, 8]], axis=1, inplace = True)\n",
        "Population.head(5)"
      ],
      "execution_count": null,
      "outputs": [
        {
          "output_type": "execute_result",
          "data": {
            "text/html": [
              "<div>\n",
              "<style scoped>\n",
              "    .dataframe tbody tr th:only-of-type {\n",
              "        vertical-align: middle;\n",
              "    }\n",
              "\n",
              "    .dataframe tbody tr th {\n",
              "        vertical-align: top;\n",
              "    }\n",
              "\n",
              "    .dataframe thead th {\n",
              "        text-align: right;\n",
              "    }\n",
              "</style>\n",
              "<table border=\"1\" class=\"dataframe\">\n",
              "  <thead>\n",
              "    <tr style=\"text-align: right;\">\n",
              "      <th></th>\n",
              "      <th>Type_of_Day</th>\n",
              "      <th>Taken_Bluecars</th>\n",
              "      <th>Department</th>\n",
              "    </tr>\n",
              "  </thead>\n",
              "  <tbody>\n",
              "    <tr>\n",
              "      <th>3436</th>\n",
              "      <td>weekend</td>\n",
              "      <td>68</td>\n",
              "      <td>Yvelines</td>\n",
              "    </tr>\n",
              "    <tr>\n",
              "      <th>3437</th>\n",
              "      <td>weekend</td>\n",
              "      <td>67</td>\n",
              "      <td>Yvelines</td>\n",
              "    </tr>\n",
              "    <tr>\n",
              "      <th>3443</th>\n",
              "      <td>weekend</td>\n",
              "      <td>64</td>\n",
              "      <td>Yvelines</td>\n",
              "    </tr>\n",
              "    <tr>\n",
              "      <th>3444</th>\n",
              "      <td>weekend</td>\n",
              "      <td>70</td>\n",
              "      <td>Yvelines</td>\n",
              "    </tr>\n",
              "    <tr>\n",
              "      <th>3450</th>\n",
              "      <td>weekend</td>\n",
              "      <td>80</td>\n",
              "      <td>Yvelines</td>\n",
              "    </tr>\n",
              "  </tbody>\n",
              "</table>\n",
              "</div>"
            ],
            "text/plain": [
              "     Type_of_Day  Taken_Bluecars Department\n",
              "3436     weekend              68   Yvelines\n",
              "3437     weekend              67   Yvelines\n",
              "3443     weekend              64   Yvelines\n",
              "3444     weekend              70   Yvelines\n",
              "3450     weekend              80   Yvelines"
            ]
          },
          "metadata": {},
          "execution_count": 35
        }
      ]
    },
    {
      "cell_type": "code",
      "metadata": {
        "colab": {
          "base_uri": "https://localhost:8080/"
        },
        "id": "tgSXmx4cAH1x",
        "outputId": "95c73649-5a9b-4e05-c2ce-ec06f77f872a"
      },
      "source": [
        "#Describing the Population Data:\n",
        "Population['Taken_Bluecars'].describe()"
      ],
      "execution_count": null,
      "outputs": [
        {
          "output_type": "execute_result",
          "data": {
            "text/plain": [
              "count    264.000000\n",
              "mean      38.946970\n",
              "std       21.264159\n",
              "min        0.000000\n",
              "25%       23.750000\n",
              "50%       32.000000\n",
              "75%       54.250000\n",
              "max      104.000000\n",
              "Name: Taken_Bluecars, dtype: float64"
            ]
          },
          "metadata": {},
          "execution_count": 37
        }
      ]
    },
    {
      "cell_type": "markdown",
      "metadata": {
        "id": "PNOBKjTw5LcH"
      },
      "source": [
        "The Population Mean is 38.95 and Standard Deviation is 21.26"
      ]
    },
    {
      "cell_type": "markdown",
      "metadata": {
        "id": "I_eP6nD_wSSu"
      },
      "source": [
        "**Step 3**: Choosing a Level of Significance"
      ]
    },
    {
      "cell_type": "markdown",
      "metadata": {
        "id": "njJWwzsKwWzu"
      },
      "source": [
        "The level of significance/Alpha is 5% while Confidence level is 95%"
      ]
    },
    {
      "cell_type": "markdown",
      "metadata": {
        "id": "p9u-YRftwWwx"
      },
      "source": [
        "**Step 4**: Choosing the Test Statistic"
      ]
    },
    {
      "cell_type": "markdown",
      "metadata": {
        "id": "jKNydg_gx-f-"
      },
      "source": [
        "A 2 Sample Z test is used to test the hypothesis. The test is 2 tailed with a critical region of + or - 1.960"
      ]
    },
    {
      "cell_type": "markdown",
      "metadata": {
        "id": "FNtmxsXEyrBd"
      },
      "source": [
        "**Step 5**: Validating the data meets the conditions needed to perform a Z Test:"
      ]
    },
    {
      "cell_type": "markdown",
      "metadata": {
        "id": "4dvFh128eZYL"
      },
      "source": [
        "1. Sample Size be greater than 30 and randomly selected\n"
      ]
    },
    {
      "cell_type": "markdown",
      "metadata": {
        "id": "6d9aMIEBzyK-"
      },
      "source": [
        "The Sample is picked from the Population data using stratified random sampling"
      ]
    },
    {
      "cell_type": "code",
      "metadata": {
        "colab": {
          "base_uri": "https://localhost:8080/",
          "height": 203
        },
        "id": "QiBozTGoRLR9",
        "outputId": "6e73d4e4-d3de-4cb6-ee5d-3839d5740c9e"
      },
      "source": [
        "# Generating a Stratified random sample:\n",
        "Sample = Population.groupby('Department', group_keys=False).apply(lambda grouped_subset : grouped_subset.sample(n=99))\n",
        "Sample.head(5)\n"
      ],
      "execution_count": null,
      "outputs": [
        {
          "output_type": "execute_result",
          "data": {
            "text/html": [
              "<div>\n",
              "<style scoped>\n",
              "    .dataframe tbody tr th:only-of-type {\n",
              "        vertical-align: middle;\n",
              "    }\n",
              "\n",
              "    .dataframe tbody tr th {\n",
              "        vertical-align: top;\n",
              "    }\n",
              "\n",
              "    .dataframe thead th {\n",
              "        text-align: right;\n",
              "    }\n",
              "</style>\n",
              "<table border=\"1\" class=\"dataframe\">\n",
              "  <thead>\n",
              "    <tr style=\"text-align: right;\">\n",
              "      <th></th>\n",
              "      <th>Type_of_Day</th>\n",
              "      <th>Taken_Bluecars</th>\n",
              "      <th>Department</th>\n",
              "    </tr>\n",
              "  </thead>\n",
              "  <tbody>\n",
              "    <tr>\n",
              "      <th>15995</th>\n",
              "      <td>weekend</td>\n",
              "      <td>40</td>\n",
              "      <td>Val-d'Oise</td>\n",
              "    </tr>\n",
              "    <tr>\n",
              "      <th>15704</th>\n",
              "      <td>weekend</td>\n",
              "      <td>46</td>\n",
              "      <td>Val-d'Oise</td>\n",
              "    </tr>\n",
              "    <tr>\n",
              "      <th>15806</th>\n",
              "      <td>weekend</td>\n",
              "      <td>31</td>\n",
              "      <td>Val-d'Oise</td>\n",
              "    </tr>\n",
              "    <tr>\n",
              "      <th>15894</th>\n",
              "      <td>weekend</td>\n",
              "      <td>38</td>\n",
              "      <td>Val-d'Oise</td>\n",
              "    </tr>\n",
              "    <tr>\n",
              "      <th>15935</th>\n",
              "      <td>weekend</td>\n",
              "      <td>28</td>\n",
              "      <td>Val-d'Oise</td>\n",
              "    </tr>\n",
              "  </tbody>\n",
              "</table>\n",
              "</div>"
            ],
            "text/plain": [
              "      Type_of_Day  Taken_Bluecars  Department\n",
              "15995     weekend              40  Val-d'Oise\n",
              "15704     weekend              46  Val-d'Oise\n",
              "15806     weekend              31  Val-d'Oise\n",
              "15894     weekend              38  Val-d'Oise\n",
              "15935     weekend              28  Val-d'Oise"
            ]
          },
          "metadata": {},
          "execution_count": 39
        }
      ]
    },
    {
      "cell_type": "markdown",
      "metadata": {
        "id": "Dm1um2xc5ezC"
      },
      "source": [
        "The Number of observations/Sample size is 198 hence greater than 30"
      ]
    },
    {
      "cell_type": "code",
      "metadata": {
        "colab": {
          "base_uri": "https://localhost:8080/"
        },
        "id": "EbI_Ybtj_58p",
        "outputId": "ea12997d-281b-4c71-a390-d23ccf74435c"
      },
      "source": [
        "#Describing the Sample Data:\n",
        "Sample['Taken_Bluecars'].describe()"
      ],
      "execution_count": null,
      "outputs": [
        {
          "output_type": "execute_result",
          "data": {
            "text/plain": [
              "count    198.000000\n",
              "mean      39.126263\n",
              "std       21.697253\n",
              "min        1.000000\n",
              "25%       24.000000\n",
              "50%       32.000000\n",
              "75%       55.750000\n",
              "max      104.000000\n",
              "Name: Taken_Bluecars, dtype: float64"
            ]
          },
          "metadata": {},
          "execution_count": 41
        }
      ]
    },
    {
      "cell_type": "markdown",
      "metadata": {
        "id": "QNyFTRcWSojJ"
      },
      "source": [
        "The Sample Mean is 39.13 and the Standard deviation is 21.69"
      ]
    },
    {
      "cell_type": "markdown",
      "metadata": {
        "id": "Xjvmtofv55uk"
      },
      "source": [
        "2. Data Points should be Independent from each other"
      ]
    },
    {
      "cell_type": "markdown",
      "metadata": {
        "id": "zK_y3uElLiV4"
      },
      "source": [
        "Creating our 2 samples;\n",
        "\n",
        "The first sample will contain information on Bluecars taken in Yvelines while the second sample will be of Bluecars taken in Val-d'Oise.\n",
        "\n",
        "- Sample 1 = Yvelines\n",
        "- Sample 2 = Val "
      ]
    },
    {
      "cell_type": "code",
      "metadata": {
        "colab": {
          "base_uri": "https://localhost:8080/",
          "height": 203
        },
        "id": "h9QjS6ul6Zst",
        "outputId": "ba6acb09-cc44-42d4-f6ee-3467d093d169"
      },
      "source": [
        "#Creating a dataframe for the first sample\n",
        "Yvelines = Sample.loc[Sample['Department'].isin(['Yvelines'])]\n",
        "Yvelines.head(5)"
      ],
      "execution_count": null,
      "outputs": [
        {
          "output_type": "execute_result",
          "data": {
            "text/html": [
              "<div>\n",
              "<style scoped>\n",
              "    .dataframe tbody tr th:only-of-type {\n",
              "        vertical-align: middle;\n",
              "    }\n",
              "\n",
              "    .dataframe tbody tr th {\n",
              "        vertical-align: top;\n",
              "    }\n",
              "\n",
              "    .dataframe thead th {\n",
              "        text-align: right;\n",
              "    }\n",
              "</style>\n",
              "<table border=\"1\" class=\"dataframe\">\n",
              "  <thead>\n",
              "    <tr style=\"text-align: right;\">\n",
              "      <th></th>\n",
              "      <th>Type_of_Day</th>\n",
              "      <th>Taken_Bluecars</th>\n",
              "      <th>Department</th>\n",
              "    </tr>\n",
              "  </thead>\n",
              "  <tbody>\n",
              "    <tr>\n",
              "      <th>3503</th>\n",
              "      <td>weekend</td>\n",
              "      <td>78</td>\n",
              "      <td>Yvelines</td>\n",
              "    </tr>\n",
              "    <tr>\n",
              "      <th>3844</th>\n",
              "      <td>weekend</td>\n",
              "      <td>84</td>\n",
              "      <td>Yvelines</td>\n",
              "    </tr>\n",
              "    <tr>\n",
              "      <th>3708</th>\n",
              "      <td>weekend</td>\n",
              "      <td>30</td>\n",
              "      <td>Yvelines</td>\n",
              "    </tr>\n",
              "    <tr>\n",
              "      <th>3517</th>\n",
              "      <td>weekend</td>\n",
              "      <td>52</td>\n",
              "      <td>Yvelines</td>\n",
              "    </tr>\n",
              "    <tr>\n",
              "      <th>3816</th>\n",
              "      <td>weekend</td>\n",
              "      <td>58</td>\n",
              "      <td>Yvelines</td>\n",
              "    </tr>\n",
              "  </tbody>\n",
              "</table>\n",
              "</div>"
            ],
            "text/plain": [
              "     Type_of_Day  Taken_Bluecars Department\n",
              "3503     weekend              78   Yvelines\n",
              "3844     weekend              84   Yvelines\n",
              "3708     weekend              30   Yvelines\n",
              "3517     weekend              52   Yvelines\n",
              "3816     weekend              58   Yvelines"
            ]
          },
          "metadata": {},
          "execution_count": 42
        }
      ]
    },
    {
      "cell_type": "code",
      "metadata": {
        "colab": {
          "base_uri": "https://localhost:8080/",
          "height": 203
        },
        "id": "VgMKAhDY6rQZ",
        "outputId": "475477b9-6358-4d91-f2a7-8b0fbc7285d7"
      },
      "source": [
        "#Creating a dataframe for the second sample:\n",
        "Val = Sample.loc[Sample['Department'].isin([\"Val-d'Oise\"])]\n",
        "Val.head()"
      ],
      "execution_count": null,
      "outputs": [
        {
          "output_type": "execute_result",
          "data": {
            "text/html": [
              "<div>\n",
              "<style scoped>\n",
              "    .dataframe tbody tr th:only-of-type {\n",
              "        vertical-align: middle;\n",
              "    }\n",
              "\n",
              "    .dataframe tbody tr th {\n",
              "        vertical-align: top;\n",
              "    }\n",
              "\n",
              "    .dataframe thead th {\n",
              "        text-align: right;\n",
              "    }\n",
              "</style>\n",
              "<table border=\"1\" class=\"dataframe\">\n",
              "  <thead>\n",
              "    <tr style=\"text-align: right;\">\n",
              "      <th></th>\n",
              "      <th>Type_of_Day</th>\n",
              "      <th>Taken_Bluecars</th>\n",
              "      <th>Department</th>\n",
              "    </tr>\n",
              "  </thead>\n",
              "  <tbody>\n",
              "    <tr>\n",
              "      <th>15995</th>\n",
              "      <td>weekend</td>\n",
              "      <td>40</td>\n",
              "      <td>Val-d'Oise</td>\n",
              "    </tr>\n",
              "    <tr>\n",
              "      <th>15704</th>\n",
              "      <td>weekend</td>\n",
              "      <td>46</td>\n",
              "      <td>Val-d'Oise</td>\n",
              "    </tr>\n",
              "    <tr>\n",
              "      <th>15806</th>\n",
              "      <td>weekend</td>\n",
              "      <td>31</td>\n",
              "      <td>Val-d'Oise</td>\n",
              "    </tr>\n",
              "    <tr>\n",
              "      <th>15894</th>\n",
              "      <td>weekend</td>\n",
              "      <td>38</td>\n",
              "      <td>Val-d'Oise</td>\n",
              "    </tr>\n",
              "    <tr>\n",
              "      <th>15935</th>\n",
              "      <td>weekend</td>\n",
              "      <td>28</td>\n",
              "      <td>Val-d'Oise</td>\n",
              "    </tr>\n",
              "  </tbody>\n",
              "</table>\n",
              "</div>"
            ],
            "text/plain": [
              "      Type_of_Day  Taken_Bluecars  Department\n",
              "15995     weekend              40  Val-d'Oise\n",
              "15704     weekend              46  Val-d'Oise\n",
              "15806     weekend              31  Val-d'Oise\n",
              "15894     weekend              38  Val-d'Oise\n",
              "15935     weekend              28  Val-d'Oise"
            ]
          },
          "metadata": {},
          "execution_count": 43
        }
      ]
    },
    {
      "cell_type": "code",
      "metadata": {
        "colab": {
          "base_uri": "https://localhost:8080/"
        },
        "id": "ulRtYznn6OsJ",
        "outputId": "6051ae20-2b8d-4427-83aa-f4393c010056"
      },
      "source": [
        "#Testing for independency on the 2 samples:\n",
        "\n",
        "from scipy.stats import spearmanr\n",
        "spearmanr(Yvelines['Taken_Bluecars'], Val['Taken_Bluecars'])    "
      ],
      "execution_count": null,
      "outputs": [
        {
          "output_type": "execute_result",
          "data": {
            "text/plain": [
              "SpearmanrResult(correlation=-0.05594527459888076, pvalue=0.5823125537397589)"
            ]
          },
          "metadata": {},
          "execution_count": 44
        }
      ]
    },
    {
      "cell_type": "markdown",
      "metadata": {
        "id": "8hPNwlkx752s"
      },
      "source": [
        "Since the pvalue is greater than 0.05, this confirms the 2 samples are independent from each other"
      ]
    },
    {
      "cell_type": "markdown",
      "metadata": {
        "id": "9KRZGDZP8O9H"
      },
      "source": [
        "3. Data should follow a normal distribution"
      ]
    },
    {
      "cell_type": "code",
      "metadata": {
        "colab": {
          "base_uri": "https://localhost:8080/",
          "height": 289
        },
        "id": "FHcOW6yG8T8v",
        "outputId": "20e39f84-9d8e-47cf-c39a-70f58dedebd6"
      },
      "source": [
        "#To perform a normality test on our sampled data:\n",
        "from statsmodels.graphics.gofplots import qqplot\n",
        "from matplotlib import pyplot\n",
        "\n",
        "Check = Sample['Taken_Bluecars']\n",
        "qqplot(Check, line='s')\n",
        "pyplot.show()\n"
      ],
      "execution_count": null,
      "outputs": [
        {
          "output_type": "display_data",
          "data": {
            "image/png": "[encoded data removed]",
            "text/plain": [
              "<Figure size 432x288 with 1 Axes>"
            ]
          },
          "metadata": {}
        }
      ]
    },
    {
      "cell_type": "code",
      "metadata": {
        "colab": {
          "base_uri": "https://localhost:8080/"
        },
        "id": "6CHCqcZi-Ib7",
        "outputId": "cd1210ae-4f59-4b9c-d3c6-d059a6e18a8b"
      },
      "source": [
        "#Using shapiro:\n",
        "from scipy import stats\n",
        "from scipy.stats import shapiro\n",
        "\n",
        "stat, p = shapiro(Check)\n",
        "print('Statistics=%.3f, p=%.3f' % (stat, p))\n",
        "\n",
        "# interpreting\n",
        "alpha = 0.05\n",
        "if p > alpha:\n",
        "\tprint('Sample looks Gaussian')\n",
        "else:\n",
        "\tprint('Sample does not look Gaussian')"
      ],
      "execution_count": null,
      "outputs": [
        {
          "output_type": "stream",
          "name": "stdout",
          "text": [
            "Statistics=0.934, p=0.000\n",
            "Sample does not look Gaussian\n"
          ]
        }
      ]
    },
    {
      "cell_type": "markdown",
      "metadata": {
        "id": "zdUAVOk6-b8D"
      },
      "source": [
        "The sample did not pass the normality test. Since our sample size is large, then the z test can still be performed"
      ]
    },
    {
      "cell_type": "markdown",
      "metadata": {
        "id": "1OMdv2A1_KKd"
      },
      "source": [
        "4. Sample sizes should be equal if at all possible"
      ]
    },
    {
      "cell_type": "code",
      "metadata": {
        "colab": {
          "base_uri": "https://localhost:8080/"
        },
        "id": "sCM4OGjD_R_D",
        "outputId": "607d87df-de62-4821-869c-c41609aa5b44"
      },
      "source": [
        "#To view the sample size of the 2 samples:\n",
        "Sample['Department'].value_counts()"
      ],
      "execution_count": null,
      "outputs": [
        {
          "output_type": "execute_result",
          "data": {
            "text/plain": [
              "Yvelines      99\n",
              "Val-d'Oise    99\n",
              "Name: Department, dtype: int64"
            ]
          },
          "metadata": {},
          "execution_count": 48
        }
      ]
    },
    {
      "cell_type": "markdown",
      "metadata": {
        "id": "sq7yoiKH_glS"
      },
      "source": [
        "Both samples have a sample size of 99"
      ]
    },
    {
      "cell_type": "code",
      "metadata": {
        "colab": {
          "base_uri": "https://localhost:8080/"
        },
        "id": "G8qfJDe7V2r5",
        "outputId": "c3d434c3-56e7-4d81-914a-9d014d24fdfc"
      },
      "source": [
        "# Checking the power of the two sample z test\n",
        "\n",
        "from statsmodels.stats.power import zt_ind_solve_power\n",
        "\n",
        "alpha=0.05\n",
        "ratio=(99/99)\n",
        "effect_size= 0.3\n",
        "\n",
        "statistical_power = zt_ind_solve_power(effect_size=effect_size, nobs1=97, alpha=alpha, power=None, ratio=ratio, alternative='two-sided')\n",
        "print(\"The statistical power is: {0}\".format(statistical_power))"
      ],
      "execution_count": null,
      "outputs": [
        {
          "output_type": "stream",
          "name": "stdout",
          "text": [
            "The statistical power is: 0.5514632863091699\n"
          ]
        }
      ]
    },
    {
      "cell_type": "markdown",
      "metadata": {
        "id": "pWHtXltrWEr_"
      },
      "source": [
        "The power of the test conducted is 55%. \n",
        "\n",
        "Some of the factors that could have affected the statistical power of the test include:\n",
        "\n",
        "- The population not following a normal distribution"
      ]
    },
    {
      "cell_type": "markdown",
      "metadata": {
        "id": "sdopFD_bT-sK"
      },
      "source": [
        "Finding the Point Estimates and Confidence Interval"
      ]
    },
    {
      "cell_type": "code",
      "metadata": {
        "colab": {
          "base_uri": "https://localhost:8080/"
        },
        "id": "BDmC-jk7T_-A",
        "outputId": "ab82d5cb-1f5f-42f1-d5a6-9bcf0cef807d"
      },
      "source": [
        "#To find the Point Estimate:\n",
        "Population['Taken_Bluecars'].mean() - Sample['Taken_Bluecars'].mean()"
      ],
      "execution_count": null,
      "outputs": [
        {
          "output_type": "execute_result",
          "data": {
            "text/plain": [
              "-0.17929292929292728"
            ]
          },
          "metadata": {},
          "execution_count": 50
        }
      ]
    },
    {
      "cell_type": "markdown",
      "metadata": {
        "id": "z0TVjNnGjNhp"
      },
      "source": [
        "The Sample mean tends to be an overestimate for the population mean"
      ]
    },
    {
      "cell_type": "code",
      "metadata": {
        "colab": {
          "base_uri": "https://localhost:8080/"
        },
        "id": "zgq6dlGjUEkY",
        "outputId": "b7b46dc9-6e59-4de0-f795-84549808c83e"
      },
      "source": [
        "#Finding the Confidence Interval:\n",
        "import math\n",
        "\n",
        "Sample_Mean = Sample['Taken_Bluecars'].mean()\n",
        "\n",
        "z_critical = stats.norm.ppf(q = 0.975) \n",
        "\n",
        "print(\"z-critical value:\")             \n",
        "print(z_critical)                        \n",
        "\n",
        "Pop_std = Population['Taken_Bluecars'].std() \n",
        "\n",
        "margin_of_error = z_critical * (Pop_std/math.sqrt(198))\n",
        "\n",
        "confidence_interval = (Sample_Mean - margin_of_error,\n",
        "                       Sample_Mean + margin_of_error)  \n",
        "\n",
        "print(\"Confidence interval:\")\n",
        "print(confidence_interval)"
      ],
      "execution_count": null,
      "outputs": [
        {
          "output_type": "stream",
          "name": "stdout",
          "text": [
            "z-critical value:\n",
            "1.959963984540054\n",
            "Confidence interval:\n",
            "(36.16440815292936, 42.088117099595884)\n"
          ]
        }
      ]
    },
    {
      "cell_type": "markdown",
      "metadata": {
        "id": "-o-iYylGh9Zj"
      },
      "source": [
        "We are 95% confident that the mean of the population is between 36.16 and 42.09\n",
        "\n"
      ]
    },
    {
      "cell_type": "markdown",
      "metadata": {
        "id": "QavCLDM_Aoj6"
      },
      "source": [
        "**Step 6**: Calculating the Test Statistic"
      ]
    },
    {
      "cell_type": "markdown",
      "metadata": {
        "id": "bjbdf3kmAr6P"
      },
      "source": [
        "Since the data meets the conditions required to use a Z test, we calculate the test statistic"
      ]
    },
    {
      "cell_type": "code",
      "metadata": {
        "colab": {
          "base_uri": "https://localhost:8080/"
        },
        "id": "oLRprIEiDyt6",
        "outputId": "9de22c4a-6550-48c1-c05a-7b737a774119"
      },
      "source": [
        "#Finding the Mean and Std for sample 1:\n",
        "M1 = Yvelines['Taken_Bluecars'].mean()\n",
        "M1\n",
        "S1 = Yvelines['Taken_Bluecars'].std() \n",
        "S1"
      ],
      "execution_count": null,
      "outputs": [
        {
          "output_type": "execute_result",
          "data": {
            "text/plain": [
              "20.45421653919106"
            ]
          },
          "metadata": {},
          "execution_count": 53
        }
      ]
    },
    {
      "cell_type": "code",
      "metadata": {
        "colab": {
          "base_uri": "https://localhost:8080/"
        },
        "id": "6lJZSfAiEJuj",
        "outputId": "c685ae4c-4239-4c8c-a411-d7afa453cd2c"
      },
      "source": [
        "#Finding the Mean and Std for the second Sample:\n",
        "M2 = Val['Taken_Bluecars'].mean()\n",
        "M2\n",
        "S2 = Val['Taken_Bluecars'].std() \n",
        "S2"
      ],
      "execution_count": null,
      "outputs": [
        {
          "output_type": "execute_result",
          "data": {
            "text/plain": [
              "15.514298735840233"
            ]
          },
          "metadata": {},
          "execution_count": 54
        }
      ]
    },
    {
      "cell_type": "code",
      "metadata": {
        "colab": {
          "base_uri": "https://localhost:8080/"
        },
        "id": "Q8NYJqMNDaN7",
        "outputId": "b21d078b-d9dd-46d4-e20e-0c41d4fe449a"
      },
      "source": [
        "#Finding the Z Test:\n",
        "alpha = 0.05\n",
        "n1 = Yvelines['Taken_Bluecars'].count() \n",
        "n2 = Val['Taken_Bluecars'].count() \n",
        "\n",
        "sp = math.sqrt(((n1-1)*S1**2+(n2-1)*S2**2)/(n1+n2-2)) \n",
        "print(f\"The pooled estimate of the commom stdev is: {round(sp,3)}, which is a value between {round(S1, 3)} and {round(S2,3)}\")\n",
        "\n",
        "# calculate the z-score\n",
        "z = (M1-M2)/(sp*(math.sqrt((1/n1+1/n2))))\n",
        "print(f\"The z-score statistic is: {z}\")"
      ],
      "execution_count": null,
      "outputs": [
        {
          "output_type": "stream",
          "name": "stdout",
          "text": [
            "The pooled estimate of the commom stdev is: 18.153, which is a value between 20.454 and 15.514\n",
            "The z-score statistic is: 9.243003811812054\n"
          ]
        }
      ]
    },
    {
      "cell_type": "code",
      "metadata": {
        "colab": {
          "base_uri": "https://localhost:8080/"
        },
        "id": "4KXrtHFXEthc",
        "outputId": "f68e79d9-85b3-4658-db77-a86c733e710d"
      },
      "source": [
        "#Finding the P-Value:\n",
        "import statistics\n",
        "from scipy.stats import norm\n",
        "\n",
        "p = 1 -norm.cdf(z)\n",
        "print(f\"p-value is: {p}\")"
      ],
      "execution_count": null,
      "outputs": [
        {
          "output_type": "stream",
          "name": "stdout",
          "text": [
            "p-value is: 0.0\n"
          ]
        }
      ]
    },
    {
      "cell_type": "markdown",
      "metadata": {
        "id": "F1cB7_o5DlIs"
      },
      "source": [
        "Alternatively:"
      ]
    },
    {
      "cell_type": "code",
      "metadata": {
        "colab": {
          "base_uri": "https://localhost:8080/"
        },
        "id": "fBFq90ZmClN4",
        "outputId": "81a915d6-1582-41ef-b3af-c883a3e67aff"
      },
      "source": [
        "#Calculating the test statistic:\n",
        "\n",
        "from statsmodels.stats.weightstats import ztest as ztest\n",
        "ztest(Yvelines['Taken_Bluecars'], Val['Taken_Bluecars'], value=0) "
      ],
      "execution_count": null,
      "outputs": [
        {
          "output_type": "execute_result",
          "data": {
            "text/plain": [
              "(9.243003811812056, 2.3967245433832354e-20)"
            ]
          },
          "metadata": {},
          "execution_count": 59
        }
      ]
    },
    {
      "cell_type": "markdown",
      "metadata": {
        "id": "aQd3V8xuDvlr"
      },
      "source": [
        "**Step 7**: Statistical Decision"
      ]
    },
    {
      "cell_type": "markdown",
      "metadata": {
        "id": "fGRAZsfuEkFj"
      },
      "source": [
        "Since the Z Value of 9.24 lies outside the critical region of 1.96 and the P-Value is less than 0.05 we reject the Null hypothesis.\n",
        "\n",
        "There is sufficient evidence at the 0.05 level to conclude that there is a significant difference in the average number of bluecars taken in our 2 samples."
      ]
    },
    {
      "cell_type": "markdown",
      "metadata": {
        "id": "EeJ99jiKFsbL"
      },
      "source": [
        "**Conclusion**\n",
        "\n",
        "The statistical decision implies that the average number of Bluecars taken on the weekend in Yvelines and Val-d'Oise is not the same hence we fail to support the claim stated by the Survey.\n",
        "\n"
      ]
    },
    {
      "cell_type": "markdown",
      "metadata": {
        "id": "Wm8iQtdwn9TS"
      },
      "source": [
        "Link to the Hypothesis Report:\n",
        "\n",
        " https://docs.google.com/document/d/1YCWs3iZJnUbCk91UHFZaF1jgxDmICInL6FrMBOhQUgY/edit?usp=sharing\n"
      ]
    }
  ]
}